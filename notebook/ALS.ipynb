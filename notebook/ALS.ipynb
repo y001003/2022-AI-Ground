{
 "cells": [
  {
   "cell_type": "code",
   "execution_count": 6,
   "id": "5eeb7d18",
   "metadata": {},
   "outputs": [],
   "source": [
    "import pandas as pd\n",
    "import numpy as np\n",
    "import seaborn as sns\n",
    "import matplotlib.pyplot as plt\n",
    "import implicit\n",
    "pd.set_option('display.max_rows', 100)\n",
    "pd.set_option('display.max_columns', 100)\n",
    "import scipy.sparse as sparse\n",
    "import random\n",
    "import implicit\n",
    "from implicit.als import AlternatingLeastSquares as ALS"
   ]
  },
  {
   "cell_type": "markdown",
   "id": "2bcf32aa",
   "metadata": {},
   "source": [
    "# 1. load data"
   ]
  },
  {
   "cell_type": "code",
   "execution_count": 3,
   "id": "f15266cb",
   "metadata": {},
   "outputs": [
    {
     "name": "stderr",
     "output_type": "stream",
     "text": [
      "/var/folders/fb/fgwpc_kd3dxdcfsnm_9w3wv40000gn/T/ipykernel_68650/748092468.py:4: DtypeWarning: Columns (15) have mixed types. Specify dtype option on import or set low_memory=False.\n",
      "  meta = pd.read_csv('../data/meta_data.csv') # 콘텐츠 일반 메타\n"
     ]
    }
   ],
   "source": [
    "buy = pd.read_csv('../data/buy_data.csv') # 구매이력\n",
    "history = pd.read_csv('../data/history_data.csv') # 시청 시작 데이터\n",
    "watch = pd.read_csv('../data/watch_e_data.csv') # 시청 종료 데이터\n",
    "meta = pd.read_csv('../data/meta_data.csv') # 콘텐츠 일반 메타\n",
    "meta_plus = pd.read_csv('../data/meta_data_plus.csv') # 콘텐츠 확장 정보\n",
    "profile = pd.read_csv('../data/profile_data.csv') # 프로필 정보\n",
    "search = pd.read_csv('../data/search_data.csv') # 검색을 통한 시청 데이터\n",
    "sample = pd.read_csv('../data/sample_submission.csv')\n"
   ]
  },
  {
   "cell_type": "code",
   "execution_count": 16,
   "id": "42e95bee",
   "metadata": {},
   "outputs": [
    {
     "data": {
      "text/html": [
       "<div>\n",
       "<style scoped>\n",
       "    .dataframe tbody tr th:only-of-type {\n",
       "        vertical-align: middle;\n",
       "    }\n",
       "\n",
       "    .dataframe tbody tr th {\n",
       "        vertical-align: top;\n",
       "    }\n",
       "\n",
       "    .dataframe thead th {\n",
       "        text-align: right;\n",
       "    }\n",
       "</style>\n",
       "<table border=\"1\" class=\"dataframe\">\n",
       "  <thead>\n",
       "    <tr style=\"text-align: right;\">\n",
       "      <th></th>\n",
       "      <th>profile_id</th>\n",
       "      <th>album_id</th>\n",
       "      <th>ss_id</th>\n",
       "      <th>log_time</th>\n",
       "      <th>payment</th>\n",
       "      <th>watch</th>\n",
       "    </tr>\n",
       "  </thead>\n",
       "  <tbody>\n",
       "    <tr>\n",
       "      <th>0</th>\n",
       "      <td>3</td>\n",
       "      <td>15</td>\n",
       "      <td>20220301115653</td>\n",
       "      <td>20220301115719</td>\n",
       "      <td>0.0</td>\n",
       "      <td>1</td>\n",
       "    </tr>\n",
       "    <tr>\n",
       "      <th>1</th>\n",
       "      <td>3</td>\n",
       "      <td>16</td>\n",
       "      <td>20220301115653</td>\n",
       "      <td>20220301115809</td>\n",
       "      <td>0.0</td>\n",
       "      <td>1</td>\n",
       "    </tr>\n",
       "    <tr>\n",
       "      <th>2</th>\n",
       "      <td>3</td>\n",
       "      <td>17</td>\n",
       "      <td>20220301115653</td>\n",
       "      <td>20220301115958</td>\n",
       "      <td>0.0</td>\n",
       "      <td>1</td>\n",
       "    </tr>\n",
       "    <tr>\n",
       "      <th>3</th>\n",
       "      <td>3</td>\n",
       "      <td>18</td>\n",
       "      <td>20220301115653</td>\n",
       "      <td>20220301120118</td>\n",
       "      <td>0.0</td>\n",
       "      <td>1</td>\n",
       "    </tr>\n",
       "    <tr>\n",
       "      <th>4</th>\n",
       "      <td>3</td>\n",
       "      <td>19</td>\n",
       "      <td>20220301115653</td>\n",
       "      <td>20220301120229</td>\n",
       "      <td>0.0</td>\n",
       "      <td>1</td>\n",
       "    </tr>\n",
       "    <tr>\n",
       "      <th>...</th>\n",
       "      <td>...</td>\n",
       "      <td>...</td>\n",
       "      <td>...</td>\n",
       "      <td>...</td>\n",
       "      <td>...</td>\n",
       "      <td>...</td>\n",
       "    </tr>\n",
       "    <tr>\n",
       "      <th>380542</th>\n",
       "      <td>33032</td>\n",
       "      <td>7105</td>\n",
       "      <td>424628959523801</td>\n",
       "      <td>424628959623429</td>\n",
       "      <td>0.0</td>\n",
       "      <td>1</td>\n",
       "    </tr>\n",
       "    <tr>\n",
       "      <th>380543</th>\n",
       "      <td>33032</td>\n",
       "      <td>8910</td>\n",
       "      <td>20220426115550</td>\n",
       "      <td>20220426130410</td>\n",
       "      <td>0.0</td>\n",
       "      <td>1</td>\n",
       "    </tr>\n",
       "    <tr>\n",
       "      <th>380544</th>\n",
       "      <td>33032</td>\n",
       "      <td>14662</td>\n",
       "      <td>20220427112116</td>\n",
       "      <td>20220427112335</td>\n",
       "      <td>0.0</td>\n",
       "      <td>1</td>\n",
       "    </tr>\n",
       "    <tr>\n",
       "      <th>380545</th>\n",
       "      <td>33032</td>\n",
       "      <td>14663</td>\n",
       "      <td>40440854224232</td>\n",
       "      <td>40440854224753</td>\n",
       "      <td>0.0</td>\n",
       "      <td>1</td>\n",
       "    </tr>\n",
       "    <tr>\n",
       "      <th>380546</th>\n",
       "      <td>33032</td>\n",
       "      <td>14665</td>\n",
       "      <td>20220427112116</td>\n",
       "      <td>20220427112305</td>\n",
       "      <td>0.0</td>\n",
       "      <td>1</td>\n",
       "    </tr>\n",
       "  </tbody>\n",
       "</table>\n",
       "<p>380547 rows × 6 columns</p>\n",
       "</div>"
      ],
      "text/plain": [
       "        profile_id  album_id            ss_id         log_time  payment  watch\n",
       "0                3        15   20220301115653   20220301115719      0.0      1\n",
       "1                3        16   20220301115653   20220301115809      0.0      1\n",
       "2                3        17   20220301115653   20220301115958      0.0      1\n",
       "3                3        18   20220301115653   20220301120118      0.0      1\n",
       "4                3        19   20220301115653   20220301120229      0.0      1\n",
       "...            ...       ...              ...              ...      ...    ...\n",
       "380542       33032      7105  424628959523801  424628959623429      0.0      1\n",
       "380543       33032      8910   20220426115550   20220426130410      0.0      1\n",
       "380544       33032     14662   20220427112116   20220427112335      0.0      1\n",
       "380545       33032     14663   40440854224232   40440854224753      0.0      1\n",
       "380546       33032     14665   20220427112116   20220427112305      0.0      1\n",
       "\n",
       "[380547 rows x 6 columns]"
      ]
     },
     "execution_count": 16,
     "metadata": {},
     "output_type": "execute_result"
    }
   ],
   "source": [
    "his_group = history.groupby(['profile_id','album_id']).sum().reset_index()\n",
    "his_group['watch']= 1\n",
    "his_group"
   ]
  },
  {
   "cell_type": "code",
   "execution_count": 19,
   "id": "af223ad0",
   "metadata": {},
   "outputs": [
    {
     "name": "stdout",
     "output_type": "stream",
     "text": [
      "8311\n",
      "20695\n"
     ]
    },
    {
     "data": {
      "text/plain": [
       "<8311x20695 sparse matrix of type '<class 'numpy.int64'>'\n",
       "\twith 380547 stored elements in Compressed Sparse Row format>"
      ]
     },
     "execution_count": 19,
     "metadata": {},
     "output_type": "execute_result"
    }
   ],
   "source": [
    "customers = list(np.sort(his_group['profile_id'].unique()))\n",
    "album = list(his_group['album_id'].unique())\n",
    "watch = list(his_group['watch'])\n",
    "\n",
    "rows = his_group['profile_id'].astype('category').cat.codes\n",
    "cols = his_group['album_id'].astype('category').cat.codes\n",
    "print(len(customers)) # 2663\n",
    "print(len(album))  # 223\n",
    "purchase_sparse = sparse.csr_matrix((watch, (rows, cols)), shape = (len(customers),len(album)))\n",
    "purchase_sparse #2663 * 223 행렬"
   ]
  },
  {
   "cell_type": "code",
   "execution_count": 20,
   "id": "cb999fab",
   "metadata": {},
   "outputs": [
    {
     "data": {
      "text/plain": [
       "99.77874678528406"
      ]
     },
     "execution_count": 20,
     "metadata": {},
     "output_type": "execute_result"
    }
   ],
   "source": [
    "# Sparsity: 얼마나 비어있나?\n",
    "matrix_size = purchase_sparse.shape[0]* purchase_sparse.shape[1]\n",
    "num_purchases = len(purchase_sparse.nonzero()[0])\n",
    "sparsity = 100 * (1 - (num_purchases / matrix_size))\n",
    "sparsity"
   ]
  },
  {
   "cell_type": "code",
   "execution_count": 21,
   "id": "2407341f",
   "metadata": {},
   "outputs": [
    {
     "data": {
      "application/vnd.jupyter.widget-view+json": {
       "model_id": "be441988481c45069dacb3330fd8e9d7",
       "version_major": 2,
       "version_minor": 0
      },
      "text/plain": [
       "  0%|          | 0/100 [00:00<?, ?it/s]"
      ]
     },
     "metadata": {},
     "output_type": "display_data"
    }
   ],
   "source": [
    "als_model = ALS(factors=20, regularization=0.01, iterations = 100)\n",
    "als_model.fit(purchase_sparse)"
   ]
  },
  {
   "cell_type": "code",
   "execution_count": 23,
   "id": "eb195748",
   "metadata": {},
   "outputs": [
    {
     "data": {
      "text/plain": [
       "(array([ 239, 1791,  342,  327, 1963,   36,    0,  357,  373,  186],\n",
       "       dtype=int32),\n",
       " array([0.03730747, 0.03572573, 0.03559886, 0.02624757, 0.02400399,\n",
       "        0.02161463, 0.02082878, 0.01873153, 0.01698042, 0.01322456],\n",
       "       dtype=float32))"
      ]
     },
     "execution_count": 23,
     "metadata": {},
     "output_type": "execute_result"
    }
   ],
   "source": [
    "result = als_model.recommend(2, purchase_sparse[2], N=10)\n",
    "result"
   ]
  },
  {
   "cell_type": "code",
   "execution_count": 15,
   "id": "ecd182b7",
   "metadata": {},
   "outputs": [
    {
     "data": {
      "text/html": [
       "<div>\n",
       "<style scoped>\n",
       "    .dataframe tbody tr th:only-of-type {\n",
       "        vertical-align: middle;\n",
       "    }\n",
       "\n",
       "    .dataframe tbody tr th {\n",
       "        vertical-align: top;\n",
       "    }\n",
       "\n",
       "    .dataframe thead th {\n",
       "        text-align: right;\n",
       "    }\n",
       "</style>\n",
       "<table border=\"1\" class=\"dataframe\">\n",
       "  <thead>\n",
       "    <tr style=\"text-align: right;\">\n",
       "      <th></th>\n",
       "      <th>profile_id</th>\n",
       "      <th>album_id</th>\n",
       "      <th>ss_id</th>\n",
       "      <th>log_time</th>\n",
       "      <th>payment</th>\n",
       "    </tr>\n",
       "  </thead>\n",
       "  <tbody>\n",
       "    <tr>\n",
       "      <th>0</th>\n",
       "      <td>3</td>\n",
       "      <td>15</td>\n",
       "      <td>20220301115653</td>\n",
       "      <td>20220301115719</td>\n",
       "      <td>1</td>\n",
       "    </tr>\n",
       "    <tr>\n",
       "      <th>1</th>\n",
       "      <td>3</td>\n",
       "      <td>16</td>\n",
       "      <td>20220301115653</td>\n",
       "      <td>20220301115809</td>\n",
       "      <td>1</td>\n",
       "    </tr>\n",
       "    <tr>\n",
       "      <th>2</th>\n",
       "      <td>3</td>\n",
       "      <td>17</td>\n",
       "      <td>20220301115653</td>\n",
       "      <td>20220301115958</td>\n",
       "      <td>1</td>\n",
       "    </tr>\n",
       "    <tr>\n",
       "      <th>3</th>\n",
       "      <td>3</td>\n",
       "      <td>18</td>\n",
       "      <td>20220301115653</td>\n",
       "      <td>20220301120118</td>\n",
       "      <td>1</td>\n",
       "    </tr>\n",
       "    <tr>\n",
       "      <th>4</th>\n",
       "      <td>3</td>\n",
       "      <td>19</td>\n",
       "      <td>20220301115653</td>\n",
       "      <td>20220301120229</td>\n",
       "      <td>1</td>\n",
       "    </tr>\n",
       "    <tr>\n",
       "      <th>...</th>\n",
       "      <td>...</td>\n",
       "      <td>...</td>\n",
       "      <td>...</td>\n",
       "      <td>...</td>\n",
       "      <td>...</td>\n",
       "    </tr>\n",
       "    <tr>\n",
       "      <th>380542</th>\n",
       "      <td>33032</td>\n",
       "      <td>7105</td>\n",
       "      <td>424628959523801</td>\n",
       "      <td>424628959623429</td>\n",
       "      <td>1</td>\n",
       "    </tr>\n",
       "    <tr>\n",
       "      <th>380543</th>\n",
       "      <td>33032</td>\n",
       "      <td>8910</td>\n",
       "      <td>20220426115550</td>\n",
       "      <td>20220426130410</td>\n",
       "      <td>1</td>\n",
       "    </tr>\n",
       "    <tr>\n",
       "      <th>380544</th>\n",
       "      <td>33032</td>\n",
       "      <td>14662</td>\n",
       "      <td>20220427112116</td>\n",
       "      <td>20220427112335</td>\n",
       "      <td>1</td>\n",
       "    </tr>\n",
       "    <tr>\n",
       "      <th>380545</th>\n",
       "      <td>33032</td>\n",
       "      <td>14663</td>\n",
       "      <td>40440854224232</td>\n",
       "      <td>40440854224753</td>\n",
       "      <td>1</td>\n",
       "    </tr>\n",
       "    <tr>\n",
       "      <th>380546</th>\n",
       "      <td>33032</td>\n",
       "      <td>14665</td>\n",
       "      <td>20220427112116</td>\n",
       "      <td>20220427112305</td>\n",
       "      <td>1</td>\n",
       "    </tr>\n",
       "  </tbody>\n",
       "</table>\n",
       "<p>380547 rows × 5 columns</p>\n",
       "</div>"
      ],
      "text/plain": [
       "        profile_id  album_id            ss_id         log_time  payment\n",
       "0                3        15   20220301115653   20220301115719        1\n",
       "1                3        16   20220301115653   20220301115809        1\n",
       "2                3        17   20220301115653   20220301115958        1\n",
       "3                3        18   20220301115653   20220301120118        1\n",
       "4                3        19   20220301115653   20220301120229        1\n",
       "...            ...       ...              ...              ...      ...\n",
       "380542       33032      7105  424628959523801  424628959623429        1\n",
       "380543       33032      8910   20220426115550   20220426130410        1\n",
       "380544       33032     14662   20220427112116   20220427112335        1\n",
       "380545       33032     14663   40440854224232   40440854224753        1\n",
       "380546       33032     14665   20220427112116   20220427112305        1\n",
       "\n",
       "[380547 rows x 5 columns]"
      ]
     },
     "execution_count": 15,
     "metadata": {},
     "output_type": "execute_result"
    }
   ],
   "source": [
    "his_group"
   ]
  }
 ],
 "metadata": {
  "kernelspec": {
   "display_name": "Python 3 (ipykernel)",
   "language": "python",
   "name": "python3"
  },
  "language_info": {
   "codemirror_mode": {
    "name": "ipython",
    "version": 3
   },
   "file_extension": ".py",
   "mimetype": "text/x-python",
   "name": "python",
   "nbconvert_exporter": "python",
   "pygments_lexer": "ipython3",
   "version": "3.8.13"
  }
 },
 "nbformat": 4,
 "nbformat_minor": 5
}
