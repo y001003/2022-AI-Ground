{
 "cells": [
  {
   "cell_type": "code",
   "execution_count": 4,
   "id": "5eeb7d18",
   "metadata": {
    "ExecuteTime": {
     "end_time": "2022-11-11T05:59:04.181613Z",
     "start_time": "2022-11-11T05:58:59.710478Z"
    }
   },
   "outputs": [],
   "source": [
    "import pandas as pd\n",
    "import numpy as np\n",
    "import seaborn as sns\n",
    "import matplotlib.pyplot as plt\n",
    "import implicit\n",
    "pd.set_option('display.max_rows', 100)\n",
    "pd.set_option('display.max_columns', 100)\n",
    "import scipy.sparse as sparse\n",
    "import random\n",
    "import implicit\n",
    "from implicit.als import AlternatingLeastSquares as ALS"
   ]
  },
  {
   "cell_type": "markdown",
   "id": "2bcf32aa",
   "metadata": {},
   "source": [
    "# 1. load data"
   ]
  },
  {
   "cell_type": "code",
   "execution_count": 27,
   "id": "f15266cb",
   "metadata": {
    "ExecuteTime": {
     "end_time": "2022-11-11T07:09:03.564839Z",
     "start_time": "2022-11-11T07:09:02.191821Z"
    }
   },
   "outputs": [
    {
     "name": "stderr",
     "output_type": "stream",
     "text": [
      "c:\\users\\y0010\\appdata\\local\\programs\\python\\python39\\lib\\site-packages\\IPython\\core\\interactiveshell.py:3398: DtypeWarning: Columns (15) have mixed types.Specify dtype option on import or set low_memory=False.\n",
      "  exec(code_obj, self.user_global_ns, self.user_ns)\n"
     ]
    }
   ],
   "source": [
    "buy = pd.read_csv('../data/buy_data.csv') # 구매이력\n",
    "history = pd.read_csv('../data/history_data.csv') # 시청 시작 데이터\n",
    "watch = pd.read_csv('../data/watch_e_data.csv') # 시청 종료 데이터\n",
    "meta = pd.read_csv('../data/meta_data.csv') # 콘텐츠 일반 메타\n",
    "meta_plus = pd.read_csv('../data/meta_data_plus.csv') # 콘텐츠 확장 정보\n",
    "profile = pd.read_csv('../data/profile_data.csv') # 프로필 정보\n",
    "search = pd.read_csv('../data/search_data.csv') # 검색을 통한 시청 데이터\n",
    "sample = pd.read_csv('../data/sample_submission.csv')\n",
    "history['watch'] = 1"
   ]
  },
  {
   "cell_type": "code",
   "execution_count": 28,
   "id": "42e95bee",
   "metadata": {
    "ExecuteTime": {
     "end_time": "2022-11-11T07:09:09.525680Z",
     "start_time": "2022-11-11T07:09:09.225668Z"
    }
   },
   "outputs": [
    {
     "data": {
      "text/html": [
       "<div>\n",
       "<style scoped>\n",
       "    .dataframe tbody tr th:only-of-type {\n",
       "        vertical-align: middle;\n",
       "    }\n",
       "\n",
       "    .dataframe tbody tr th {\n",
       "        vertical-align: top;\n",
       "    }\n",
       "\n",
       "    .dataframe thead th {\n",
       "        text-align: right;\n",
       "    }\n",
       "</style>\n",
       "<table border=\"1\" class=\"dataframe\">\n",
       "  <thead>\n",
       "    <tr style=\"text-align: right;\">\n",
       "      <th></th>\n",
       "      <th>profile_id</th>\n",
       "      <th>album_id</th>\n",
       "      <th>ss_id</th>\n",
       "      <th>log_time</th>\n",
       "      <th>payment</th>\n",
       "      <th>watch</th>\n",
       "    </tr>\n",
       "  </thead>\n",
       "  <tbody>\n",
       "    <tr>\n",
       "      <th>0</th>\n",
       "      <td>3</td>\n",
       "      <td>15</td>\n",
       "      <td>20220301115653</td>\n",
       "      <td>20220301115719</td>\n",
       "      <td>0.0</td>\n",
       "      <td>1</td>\n",
       "    </tr>\n",
       "    <tr>\n",
       "      <th>1</th>\n",
       "      <td>3</td>\n",
       "      <td>16</td>\n",
       "      <td>20220301115653</td>\n",
       "      <td>20220301115809</td>\n",
       "      <td>0.0</td>\n",
       "      <td>1</td>\n",
       "    </tr>\n",
       "    <tr>\n",
       "      <th>2</th>\n",
       "      <td>3</td>\n",
       "      <td>17</td>\n",
       "      <td>20220301115653</td>\n",
       "      <td>20220301115958</td>\n",
       "      <td>0.0</td>\n",
       "      <td>1</td>\n",
       "    </tr>\n",
       "    <tr>\n",
       "      <th>3</th>\n",
       "      <td>3</td>\n",
       "      <td>18</td>\n",
       "      <td>20220301115653</td>\n",
       "      <td>20220301120118</td>\n",
       "      <td>0.0</td>\n",
       "      <td>1</td>\n",
       "    </tr>\n",
       "    <tr>\n",
       "      <th>4</th>\n",
       "      <td>3</td>\n",
       "      <td>19</td>\n",
       "      <td>20220301115653</td>\n",
       "      <td>20220301120229</td>\n",
       "      <td>0.0</td>\n",
       "      <td>1</td>\n",
       "    </tr>\n",
       "    <tr>\n",
       "      <th>...</th>\n",
       "      <td>...</td>\n",
       "      <td>...</td>\n",
       "      <td>...</td>\n",
       "      <td>...</td>\n",
       "      <td>...</td>\n",
       "      <td>...</td>\n",
       "    </tr>\n",
       "    <tr>\n",
       "      <th>380542</th>\n",
       "      <td>33032</td>\n",
       "      <td>7105</td>\n",
       "      <td>424628959523801</td>\n",
       "      <td>424628959623429</td>\n",
       "      <td>0.0</td>\n",
       "      <td>21</td>\n",
       "    </tr>\n",
       "    <tr>\n",
       "      <th>380543</th>\n",
       "      <td>33032</td>\n",
       "      <td>8910</td>\n",
       "      <td>20220426115550</td>\n",
       "      <td>20220426130410</td>\n",
       "      <td>0.0</td>\n",
       "      <td>1</td>\n",
       "    </tr>\n",
       "    <tr>\n",
       "      <th>380544</th>\n",
       "      <td>33032</td>\n",
       "      <td>14662</td>\n",
       "      <td>20220427112116</td>\n",
       "      <td>20220427112335</td>\n",
       "      <td>0.0</td>\n",
       "      <td>1</td>\n",
       "    </tr>\n",
       "    <tr>\n",
       "      <th>380545</th>\n",
       "      <td>33032</td>\n",
       "      <td>14663</td>\n",
       "      <td>40440854224232</td>\n",
       "      <td>40440854224753</td>\n",
       "      <td>0.0</td>\n",
       "      <td>2</td>\n",
       "    </tr>\n",
       "    <tr>\n",
       "      <th>380546</th>\n",
       "      <td>33032</td>\n",
       "      <td>14665</td>\n",
       "      <td>20220427112116</td>\n",
       "      <td>20220427112305</td>\n",
       "      <td>0.0</td>\n",
       "      <td>1</td>\n",
       "    </tr>\n",
       "  </tbody>\n",
       "</table>\n",
       "<p>380547 rows × 6 columns</p>\n",
       "</div>"
      ],
      "text/plain": [
       "        profile_id  album_id            ss_id         log_time  payment  watch\n",
       "0                3        15   20220301115653   20220301115719      0.0      1\n",
       "1                3        16   20220301115653   20220301115809      0.0      1\n",
       "2                3        17   20220301115653   20220301115958      0.0      1\n",
       "3                3        18   20220301115653   20220301120118      0.0      1\n",
       "4                3        19   20220301115653   20220301120229      0.0      1\n",
       "...            ...       ...              ...              ...      ...    ...\n",
       "380542       33032      7105  424628959523801  424628959623429      0.0     21\n",
       "380543       33032      8910   20220426115550   20220426130410      0.0      1\n",
       "380544       33032     14662   20220427112116   20220427112335      0.0      1\n",
       "380545       33032     14663   40440854224232   40440854224753      0.0      2\n",
       "380546       33032     14665   20220427112116   20220427112305      0.0      1\n",
       "\n",
       "[380547 rows x 6 columns]"
      ]
     },
     "execution_count": 28,
     "metadata": {},
     "output_type": "execute_result"
    }
   ],
   "source": [
    "his_group = history.groupby(['profile_id','album_id']).sum().reset_index()\n",
    "his_group"
   ]
  },
  {
   "cell_type": "code",
   "execution_count": 29,
   "id": "af223ad0",
   "metadata": {
    "ExecuteTime": {
     "end_time": "2022-11-11T07:09:20.071023Z",
     "start_time": "2022-11-11T07:09:19.951022Z"
    }
   },
   "outputs": [
    {
     "name": "stdout",
     "output_type": "stream",
     "text": [
      "8311\n",
      "20695\n"
     ]
    },
    {
     "data": {
      "text/plain": [
       "<8311x20695 sparse matrix of type '<class 'numpy.intc'>'\n",
       "\twith 380547 stored elements in Compressed Sparse Row format>"
      ]
     },
     "execution_count": 29,
     "metadata": {},
     "output_type": "execute_result"
    }
   ],
   "source": [
    "customers = list(np.sort(his_group['profile_id'].unique()))\n",
    "album = list(his_group['album_id'].unique())\n",
    "watch = list(his_group['watch'])\n",
    "\n",
    "rows = his_group['profile_id'].astype('category').cat.codes\n",
    "cols = his_group['album_id'].astype('category').cat.codes\n",
    "print(len(customers)) \n",
    "print(len(album))  \n",
    "purchase_sparse = sparse.csr_matrix((watch, (rows, cols)), shape = (len(customers),len(album)))\n",
    "purchase_sparse "
   ]
  },
  {
   "cell_type": "code",
   "execution_count": 30,
   "id": "cb999fab",
   "metadata": {
    "ExecuteTime": {
     "end_time": "2022-11-11T07:09:23.381093Z",
     "start_time": "2022-11-11T07:09:23.371100Z"
    }
   },
   "outputs": [
    {
     "data": {
      "text/plain": [
       "99.77874678528406"
      ]
     },
     "execution_count": 30,
     "metadata": {},
     "output_type": "execute_result"
    }
   ],
   "source": [
    "# Sparsity: 얼마나 비어있나?\n",
    "matrix_size = purchase_sparse.shape[0]* purchase_sparse.shape[1]\n",
    "num_purchases = len(purchase_sparse.nonzero()[0])\n",
    "sparsity = 100 * (1 - (num_purchases / matrix_size))\n",
    "sparsity"
   ]
  },
  {
   "cell_type": "code",
   "execution_count": 31,
   "id": "2407341f",
   "metadata": {
    "ExecuteTime": {
     "end_time": "2022-11-11T07:09:53.675197Z",
     "start_time": "2022-11-11T07:09:24.203101Z"
    }
   },
   "outputs": [
    {
     "data": {
      "application/vnd.jupyter.widget-view+json": {
       "model_id": "a4c453a92c4d4a66bb9a9205f0744367",
       "version_major": 2,
       "version_minor": 0
      },
      "text/plain": [
       "HBox(children=(HTML(value=''), FloatProgress(value=0.0), HTML(value='')))"
      ]
     },
     "metadata": {},
     "output_type": "display_data"
    },
    {
     "name": "stdout",
     "output_type": "stream",
     "text": [
      "\n"
     ]
    }
   ],
   "source": [
    "als_model = ALS(factors=20, regularization=0.01, iterations = 100)\n",
    "als_model.fit(purchase_sparse)"
   ]
  },
  {
   "cell_type": "code",
   "execution_count": 13,
   "id": "1fa43c63",
   "metadata": {
    "ExecuteTime": {
     "end_time": "2022-11-11T06:42:25.903439Z",
     "start_time": "2022-11-11T06:42:25.898437Z"
    }
   },
   "outputs": [
    {
     "data": {
      "text/plain": [
       "[32998, 33000, 33011, 33015, 33016, 33019, 33022, 33023, 33026, 33027, 33032]"
      ]
     },
     "execution_count": 13,
     "metadata": {},
     "output_type": "execute_result"
    }
   ],
   "source": [
    "customers[8300:]"
   ]
  },
  {
   "cell_type": "code",
   "execution_count": 34,
   "id": "eb195748",
   "metadata": {
    "ExecuteTime": {
     "end_time": "2022-11-11T07:10:41.796797Z",
     "start_time": "2022-11-11T07:10:39.769798Z"
    }
   },
   "outputs": [],
   "source": [
    "result = []\n",
    "for i in range(len(customers)):\n",
    "    result.append(list(als_model.recommend(i, purchase_sparse[i], N=25)[0]))"
   ]
  },
  {
   "cell_type": "code",
   "execution_count": 35,
   "id": "4f067b49",
   "metadata": {
    "ExecuteTime": {
     "end_time": "2022-11-11T07:10:41.806798Z",
     "start_time": "2022-11-11T07:10:41.797797Z"
    }
   },
   "outputs": [
    {
     "data": {
      "text/plain": [
       "0       [38, 222, 223, 39, 227, 134, 228, 40, 239, 949...\n",
       "1       [327, 342, 471, 963, 357, 36, 1791, 398, 1961,...\n",
       "2       [1791, 239, 1963, 342, 327, 357, 122, 0, 123, ...\n",
       "3       [398, 401, 3796, 399, 400, 404, 403, 60, 402, ...\n",
       "4       [123, 188, 125, 239, 49, 53, 124, 1938, 50, 17...\n",
       "                              ...                        \n",
       "8306    [186, 1376, 54, 1397, 1529, 1891, 2105, 2564, ...\n",
       "8307    [335, 125, 239, 49, 124, 53, 1938, 50, 1791, 3...\n",
       "8308    [2656, 2665, 2664, 2666, 2655, 2668, 2654, 266...\n",
       "8309    [122, 63, 123, 188, 335, 125, 239, 1938, 53, 3...\n",
       "8310    [122, 125, 239, 49, 124, 50, 370, 327, 53, 342...\n",
       "Length: 8311, dtype: object"
      ]
     },
     "execution_count": 35,
     "metadata": {},
     "output_type": "execute_result"
    }
   ],
   "source": [
    "pd.Series(result)"
   ]
  },
  {
   "cell_type": "code",
   "execution_count": 36,
   "id": "5d8bb729",
   "metadata": {
    "ExecuteTime": {
     "end_time": "2022-11-11T07:10:49.625941Z",
     "start_time": "2022-11-11T07:10:49.618942Z"
    }
   },
   "outputs": [],
   "source": [
    "sample['predicted_list']= result"
   ]
  },
  {
   "cell_type": "code",
   "execution_count": 38,
   "id": "1d9a39a7",
   "metadata": {
    "ExecuteTime": {
     "end_time": "2022-11-11T07:13:31.618089Z",
     "start_time": "2022-11-11T07:13:31.521078Z"
    }
   },
   "outputs": [],
   "source": [
    "sample.to_csv('result2.csv',index=None)"
   ]
  },
  {
   "cell_type": "code",
   "execution_count": 15,
   "id": "ecd182b7",
   "metadata": {},
   "outputs": [
    {
     "data": {
      "text/html": [
       "<div>\n",
       "<style scoped>\n",
       "    .dataframe tbody tr th:only-of-type {\n",
       "        vertical-align: middle;\n",
       "    }\n",
       "\n",
       "    .dataframe tbody tr th {\n",
       "        vertical-align: top;\n",
       "    }\n",
       "\n",
       "    .dataframe thead th {\n",
       "        text-align: right;\n",
       "    }\n",
       "</style>\n",
       "<table border=\"1\" class=\"dataframe\">\n",
       "  <thead>\n",
       "    <tr style=\"text-align: right;\">\n",
       "      <th></th>\n",
       "      <th>profile_id</th>\n",
       "      <th>album_id</th>\n",
       "      <th>ss_id</th>\n",
       "      <th>log_time</th>\n",
       "      <th>payment</th>\n",
       "    </tr>\n",
       "  </thead>\n",
       "  <tbody>\n",
       "    <tr>\n",
       "      <th>0</th>\n",
       "      <td>3</td>\n",
       "      <td>15</td>\n",
       "      <td>20220301115653</td>\n",
       "      <td>20220301115719</td>\n",
       "      <td>1</td>\n",
       "    </tr>\n",
       "    <tr>\n",
       "      <th>1</th>\n",
       "      <td>3</td>\n",
       "      <td>16</td>\n",
       "      <td>20220301115653</td>\n",
       "      <td>20220301115809</td>\n",
       "      <td>1</td>\n",
       "    </tr>\n",
       "    <tr>\n",
       "      <th>2</th>\n",
       "      <td>3</td>\n",
       "      <td>17</td>\n",
       "      <td>20220301115653</td>\n",
       "      <td>20220301115958</td>\n",
       "      <td>1</td>\n",
       "    </tr>\n",
       "    <tr>\n",
       "      <th>3</th>\n",
       "      <td>3</td>\n",
       "      <td>18</td>\n",
       "      <td>20220301115653</td>\n",
       "      <td>20220301120118</td>\n",
       "      <td>1</td>\n",
       "    </tr>\n",
       "    <tr>\n",
       "      <th>4</th>\n",
       "      <td>3</td>\n",
       "      <td>19</td>\n",
       "      <td>20220301115653</td>\n",
       "      <td>20220301120229</td>\n",
       "      <td>1</td>\n",
       "    </tr>\n",
       "    <tr>\n",
       "      <th>...</th>\n",
       "      <td>...</td>\n",
       "      <td>...</td>\n",
       "      <td>...</td>\n",
       "      <td>...</td>\n",
       "      <td>...</td>\n",
       "    </tr>\n",
       "    <tr>\n",
       "      <th>380542</th>\n",
       "      <td>33032</td>\n",
       "      <td>7105</td>\n",
       "      <td>424628959523801</td>\n",
       "      <td>424628959623429</td>\n",
       "      <td>1</td>\n",
       "    </tr>\n",
       "    <tr>\n",
       "      <th>380543</th>\n",
       "      <td>33032</td>\n",
       "      <td>8910</td>\n",
       "      <td>20220426115550</td>\n",
       "      <td>20220426130410</td>\n",
       "      <td>1</td>\n",
       "    </tr>\n",
       "    <tr>\n",
       "      <th>380544</th>\n",
       "      <td>33032</td>\n",
       "      <td>14662</td>\n",
       "      <td>20220427112116</td>\n",
       "      <td>20220427112335</td>\n",
       "      <td>1</td>\n",
       "    </tr>\n",
       "    <tr>\n",
       "      <th>380545</th>\n",
       "      <td>33032</td>\n",
       "      <td>14663</td>\n",
       "      <td>40440854224232</td>\n",
       "      <td>40440854224753</td>\n",
       "      <td>1</td>\n",
       "    </tr>\n",
       "    <tr>\n",
       "      <th>380546</th>\n",
       "      <td>33032</td>\n",
       "      <td>14665</td>\n",
       "      <td>20220427112116</td>\n",
       "      <td>20220427112305</td>\n",
       "      <td>1</td>\n",
       "    </tr>\n",
       "  </tbody>\n",
       "</table>\n",
       "<p>380547 rows × 5 columns</p>\n",
       "</div>"
      ],
      "text/plain": [
       "        profile_id  album_id            ss_id         log_time  payment\n",
       "0                3        15   20220301115653   20220301115719        1\n",
       "1                3        16   20220301115653   20220301115809        1\n",
       "2                3        17   20220301115653   20220301115958        1\n",
       "3                3        18   20220301115653   20220301120118        1\n",
       "4                3        19   20220301115653   20220301120229        1\n",
       "...            ...       ...              ...              ...      ...\n",
       "380542       33032      7105  424628959523801  424628959623429        1\n",
       "380543       33032      8910   20220426115550   20220426130410        1\n",
       "380544       33032     14662   20220427112116   20220427112335        1\n",
       "380545       33032     14663   40440854224232   40440854224753        1\n",
       "380546       33032     14665   20220427112116   20220427112305        1\n",
       "\n",
       "[380547 rows x 5 columns]"
      ]
     },
     "execution_count": 15,
     "metadata": {},
     "output_type": "execute_result"
    }
   ],
   "source": [
    "his_group"
   ]
  }
 ],
 "metadata": {
  "kernelspec": {
   "display_name": "Python 3 (ipykernel)",
   "language": "python",
   "name": "python3"
  },
  "language_info": {
   "codemirror_mode": {
    "name": "ipython",
    "version": 3
   },
   "file_extension": ".py",
   "mimetype": "text/x-python",
   "name": "python",
   "nbconvert_exporter": "python",
   "pygments_lexer": "ipython3",
   "version": "3.9.5"
  },
  "toc": {
   "base_numbering": 1,
   "nav_menu": {},
   "number_sections": true,
   "sideBar": true,
   "skip_h1_title": false,
   "title_cell": "Table of Contents",
   "title_sidebar": "Contents",
   "toc_cell": false,
   "toc_position": {},
   "toc_section_display": true,
   "toc_window_display": true
  }
 },
 "nbformat": 4,
 "nbformat_minor": 5
}
